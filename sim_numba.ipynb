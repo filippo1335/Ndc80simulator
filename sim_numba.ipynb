{
 "cells": [
  {
   "cell_type": "code",
   "id": "2f4f3342fe8c84b3",
   "metadata": {
    "ExecuteTime": {
     "end_time": "2025-03-18T03:31:08.914693Z",
     "start_time": "2025-03-18T03:31:07.725617Z"
    }
   },
   "source": [
    "import numpy as np\n",
    "from datashader.datashape import numpy_provides_missing\n",
    "from fontTools.misc.bezierTools import epsilon\n",
    "from numba import njit\n",
    "import matplotlib.pyplot as plt\n",
    "import time\n",
    "\n",
    "fastmath = False\n",
    "\n",
    "angles = np.array([[0.0, 0.0, 0.0, 0.0, 0.0],\n",
    "                   [np.pi/2, np.pi/2, 4*np.pi/9, np.pi/9, 4*np.pi/9],\n",
    "                   [np.pi, 17*np.pi/18, 5*np.pi/9, 5*np.pi/9, 17*np.pi/18],\n",
    "                   [5*np.pi/9, 17*np.pi/18, np.pi, 17*np.pi/18, 5*np.pi/9],\n",
    "                   [4*np.pi/9, np.pi/2, np.pi/2, 4*np.pi/9, np.pi/9]])\n",
    "\n",
    "\n",
    "#-----------------------------------------------------------\n",
    "# 1. Create the initial system configuration.\n",
    "#-----------------------------------------------------------\n",
    "@njit(fastmath=fastmath, cache=True)\n",
    "def polymergenerator(polymerl, headl, unit_distance= 4.13):      # 4.13  #nm\n",
    "    # Center-of-mass (COM)\n",
    "    COM = np.array([15.5, 39.0, 21.0])\n",
    "    # Create a linear polymer: each row is a 3D coordinate (x, y, z)\n",
    "    polymer = np.empty((polymerl, 3))\n",
    "    for i in range(polymerl):\n",
    "        polymer[i, 0] = float(i) *unit_distance\n",
    "        polymer[i, 1] = 20.0\n",
    "        polymer[i, 2] = 20.0\n",
    "\n",
    "    # Create polymer surface as 13 copies of the polymer,\n",
    "    # each shifted in the y-z plane by an offset on a circle (radius 0.5)\n",
    "    num_copies = 14\n",
    "    polymersurfaceP = np.empty((polymerl * num_copies, 3))\n",
    "    polymersurfaceN = np.empty((polymerl * num_copies, 3))\n",
    "    for k in range(num_copies):\n",
    "        angle = 2.0 * np.pi * k / num_copies\n",
    "        # Compute the offset for this copy (circle in y-z plane)\n",
    "        offset0 = 0.0\n",
    "        offset1 = 14.875 * np.cos(angle) #final radius = 14.875 nm\n",
    "        offset2 = 14.875 * np.sin(angle)\n",
    "        for i in range(polymerl):\n",
    "            polymersurfaceP[k * polymerl + i, 0] = polymer[i, 0] + offset0\n",
    "            polymersurfaceP[k * polymerl + i, 1] = polymer[i, 1] + offset1\n",
    "            polymersurfaceP[k * polymerl + i, 2] = polymer[i, 2] + offset2\n",
    "            polymersurfaceN[k * polymerl + i, 0] = polymersurfaceP[k * polymerl + i, 0] + 0.136 *unit_distance\n",
    "            polymersurfaceN[k * polymerl + i, 1] = polymersurfaceP[k * polymerl + i, 1] + 0.0\n",
    "            polymersurfaceN[k * polymerl + i, 2] = polymersurfaceP[k * polymerl + i, 2] + 0.0\n",
    "\n",
    "    # Create head surface (4 atoms) as COM plus predefined offsets # offsets for particle with radius 0.2\n",
    "    offsets = np.array([[0.4, 0.0, 0.0],\n",
    "                        [0.0, 0.4, 0.0],\n",
    "                        [-0.4, 0.0, 0.0],\n",
    "                        [-0.068, -0.394, 0.0],\n",
    "                        [0.068, -0.394, 0.0]])\n",
    "    headsurface = COM + offsets * unit_distance\n",
    "    return polymer, COM, headsurface, polymersurfaceP, polymersurfaceN\n",
    "\n",
    "\n",
    "#-----------------------------------------------------------\n",
    "# 2. Force calculation functions.\n",
    "#-----------------------------------------------------------\n",
    "@njit(fastmath=fastmath, cache=True)\n",
    "def lj_brownian(a, b, epsilon, sigma): #0.001, 0.2\n",
    "    f_total = np.zeros(3)\n",
    "    for i in range(a.shape[0]):\n",
    "        dif0 = a[i, 0] - b[0]\n",
    "        dif1 = a[i, 1] - b[1]\n",
    "        dif2 = a[i, 2] - b[2]\n",
    "        dist = np.sqrt(dif0 * dif0 + dif1 * dif1 + dif2 * dif2)\n",
    "        #if sigma/dist>0.1:\n",
    "        #    dist = sigma/10\n",
    "        f_val = 24 * epsilon * (-2 * (sigma ** 12 / (dist ** 13)) + (sigma ** 6 / (dist ** 7)))\n",
    "        inv_dist = 1.0 / dist\n",
    "        f_total[0] += f_val * dif0 * inv_dist\n",
    "        f_total[1] += f_val * dif1 * inv_dist\n",
    "        f_total[2] += f_val * dif2 * inv_dist\n",
    "    return f_total\n",
    "\n",
    "\n",
    "@njit(fastmath=fastmath, cache=True)\n",
    "def lj_repulsive(a, b, epsilon=0.1, sigma=1):  #0.001, 2.1\n",
    "    f_total = np.zeros(3)\n",
    "    for i in range(a.shape[0]):\n",
    "        dif0 = a[i, 0] - b[0]\n",
    "        dif1 = a[i, 1] - b[1]\n",
    "        dif2 = 0.0 #a[i, 2] - b[2]\n",
    "        dist = np.sqrt(dif0 * dif0 + dif1 * dif1 + dif2 * dif2)\n",
    "        if dist/sigma > 1.2:\n",
    "            continue\n",
    "        f_val = -48 * epsilon * (sigma ** 12 / (dist ** 13))\n",
    "        inv_dist = 1.0 / dist\n",
    "        f_total[0] += f_val * dif0 * inv_dist\n",
    "        f_total[1] += f_val * dif1 * inv_dist\n",
    "        f_total[2] += f_val * dif2 * inv_dist\n",
    "    return f_total\n",
    "\n",
    "\n",
    "@njit(fastmath=fastmath, cache=True)\n",
    "def harmonic_angle(surface, COM, n, angles, K=0.10):\n",
    "    N = surface.shape[0]\n",
    "    force = np.empty((N, 3))\n",
    "    for i in range(N):\n",
    "        j = (i + n) % N\n",
    "        # Compute vectors from COM to surface atoms\n",
    "        ab0 = surface[i, 0] - COM[0]\n",
    "        ab1 = surface[i, 1] - COM[1]\n",
    "        ab2 = surface[i, 2] - COM[2]\n",
    "        bc0 = surface[j, 0] - COM[0]\n",
    "        bc1 = surface[j, 1] - COM[1]\n",
    "        bc2 = surface[j, 2] - COM[2]\n",
    "        ab_norm = np.sqrt(ab0 * ab0 + ab1 * ab1 + ab2 * ab2)\n",
    "        bc_norm = np.sqrt(bc0 * bc0 + bc1 * bc1 + bc2 * bc2)\n",
    "        if ab_norm == 0.0 or bc_norm == 0.0:\n",
    "            force[i, 0] = 0.0\n",
    "            force[i, 1] = 0.0\n",
    "            force[i, 2] = 0.0\n",
    "            continue\n",
    "        cos_angle = (ab0 * bc0 + ab1 * bc1 + ab2 * bc2) / (ab_norm * bc_norm)\n",
    "        if cos_angle > 1.0:\n",
    "            cos_angle = 1.0\n",
    "        elif cos_angle < -1.0:\n",
    "            cos_angle = -1.0\n",
    "        angle_diff = angles[n,i] - np.arccos(cos_angle)\n",
    "        # Compute cross products for the double cross product force\n",
    "        cross_inner0 = bc1 * ab2 - bc2 * ab1\n",
    "        cross_inner1 = bc2 * ab0 - bc0 * ab2\n",
    "        cross_inner2 = bc0 * ab1 - bc1 * ab0\n",
    "        vec0 = ab1 * cross_inner2 - ab2 * cross_inner1\n",
    "        vec1 = ab2 * cross_inner0 - ab0 * cross_inner2\n",
    "        vec2 = ab0 * cross_inner1 - ab1 * cross_inner0\n",
    "        vec_norm = np.sqrt(vec0 * vec0 + vec1 * vec1 + vec2 * vec2)\n",
    "        if vec_norm != 0.0:\n",
    "            factor = -2 * K * angle_diff / vec_norm\n",
    "            force[i, 0] = factor * vec0\n",
    "            force[i, 1] = factor * vec1\n",
    "            force[i, 2] = factor * vec2\n",
    "        else:\n",
    "            force[i, 0] = 0.0\n",
    "            force[i, 1] = 0.0\n",
    "            force[i, 2] = 0.0\n",
    "    return force\n",
    "\n",
    "\n",
    "@njit(fastmath=fastmath, cache=True)\n",
    "def harmonic_surface(surface, COM, epsilon=0.1, sigma=1.652): #0.4 or 0.4*4.13 = 1.652 GJ/mol nm\n",
    "    N = surface.shape[0]\n",
    "    force = np.empty((N, 3))\n",
    "    for i in range(N):\n",
    "        dx = surface[i, 0] - COM[0]\n",
    "        dy = surface[i, 1] - COM[1]\n",
    "        dz = surface[i, 2] - COM[2]\n",
    "        norm_val = np.sqrt(dx * dx + dy * dy + dz * dz)\n",
    "        if norm_val > 0:\n",
    "            factor = 2 * epsilon * (sigma - norm_val) / norm_val\n",
    "            force[i, 0] = factor * dx\n",
    "            force[i, 1] = factor * dy\n",
    "            force[i, 2] = factor * dz\n",
    "        else:\n",
    "            force[i, 0] = 0.0\n",
    "            force[i, 1] = 0.0\n",
    "            force[i, 2] = 0.0\n",
    "    return force\n",
    "\n",
    "\n",
    "#-----------------------------------------------------------\n",
    "# 3. Define the integration function (Not-Verlet algorithm)\n",
    "#-----------------------------------------------------------\n",
    "@njit(fastmath=fastmath, cache=True)\n",
    "def notverlet(COM, surface, dt, random_val, mu, polymer, polymersurfaceP, polymersurfaceN, epsi):\n",
    "    # Compute harmonic angle forces and sum them\n",
    "    N = surface.shape[0]\n",
    "    force1 = harmonic_angle(surface, COM, 1, angles)\n",
    "    force2 = harmonic_angle(surface, COM, 2, angles)\n",
    "    force3 = harmonic_angle(surface, COM, -2, angles)\n",
    "    force4 = harmonic_angle(surface, COM, -1, angles)\n",
    "    angle_forces = force1 + force2 + force3 + force4\n",
    "    # Compute harmonic bond force\n",
    "    harmonic_bond = harmonic_surface(surface, COM)\n",
    "\n",
    "    # Compute Lennard-Jones (Brownian) force on a particular surface atom (index 3)\n",
    "    lj_force_surf = np.zeros_like(surface)\n",
    "    lj_force_surf[3] = lj_brownian(polymersurfaceP, surface[3], epsi, 1.4) # 0.00413  0.2*4.13 = 0.82 GJ/mol nm  0.00244613\n",
    "    lj_force_surf[4] = lj_brownian(polymersurfaceN, surface[4], epsi, 1.4) # 0.00413 0.2*4.13 = 0.826  0.00244613\n",
    "    delta_surface = np.empty_like(surface)\n",
    "    # Update surface positions\n",
    "    for i in range(surface.shape[0]):\n",
    "        for j in range(3):\n",
    "            delta_surface[i,j] = dt * (mu*\n",
    "                        (angle_forces[i, j] + harmonic_bond[i, j] + lj_force_surf[i, j]) + np.random.uniform(-random_val, random_val) )\n",
    "        displacement = np.sqrt(delta_surface[i,0]**2 + delta_surface[i,1]**2 + delta_surface[i,2]**2)\n",
    "        #if displacement > 0.1: delta_surface= 0.1*delta_surface/displacement\n",
    "    new_surface = np.empty_like(surface)\n",
    "    for i in range(surface.shape[0]):\n",
    "        for j in range(3):\n",
    "            new_surface[i, j] = (surface[i, j] + delta_surface[i,j])\n",
    "                                 #dt * ((angle_forces[i, j] + harmonic_bond[i, j] + lj_force_surf[i, j]) + 0.1*np.random.uniform(-random_val, random_val) ))\n",
    "    # Compute repulsive force on COM from polymer\n",
    "    lj_force_COM = lj_repulsive(polymer, COM, 0.0005, 14.875) # 0.00413 2.25*4.13\n",
    "    # Sum harmonic bond forces over surface atoms (exclude angle forces per corrected dynamics)\n",
    "    harmonic_sum = np.zeros(3)\n",
    "    for i in range(harmonic_bond.shape[0]):\n",
    "        harmonic_sum[0] += harmonic_bond[i, 0]\n",
    "        harmonic_sum[1] += harmonic_bond[i, 1]\n",
    "        harmonic_sum[2] += harmonic_bond[i, 2]\n",
    "\n",
    "    # Update COM position\n",
    "    delta_COM = np.empty(3)\n",
    "    for i in range(3):\n",
    "        delta_COM[i] = dt * (mu * (lj_force_COM[i] - harmonic_sum[i]) + np.random.uniform(-random_val, random_val)) #mu is in time units\n",
    "    displacement = np.sqrt(delta_COM[0]**2+delta_COM[1]**2+delta_COM[2]**2)\n",
    "    #if displacement > 0.1: delta_COM = 0.1*delta_COM/displacement\n",
    "    new_COM = np.empty(3)\n",
    "    for i in range(3):\n",
    "        new_COM[i] = COM[i] + delta_COM[i]\n",
    "    if new_COM[0]<4.13:\n",
    "        new_COM[0] += 12.39\n",
    "        new_surface[:,0] += 12.39\n",
    "    elif new_COM[0]>33.04:\n",
    "        new_COM[0] -= 12.39\n",
    "        new_surface[:,0] -= 12.39\n",
    "    return new_COM, new_surface\n",
    "\n",
    "\n",
    "#-----------------------------------------------------------\n",
    "# 4. Define the simulation loop.\n",
    "#    Progress messages are printed every 'print_every' steps.\n",
    "#-----------------------------------------------------------\n",
    "@njit(fastmath=fastmath, cache=True)\n",
    "def simulate(COM, surface, polymer, polymersurfaceP, polymersurfaceN, steps, dt, random_val, mu, print_every, hist_every=1000, epsi=0.00244613):\n",
    "    histsize = steps // hist_every\n",
    "    headhist = np.empty((histsize, 3))\n",
    "    surfacehist = np.empty((histsize, surface.shape[0], 3))\n",
    "    headhist[0] = COM\n",
    "    surfacehist[0] = surface\n",
    "    for i in range(steps + 1):\n",
    "        COM, surface = notverlet(COM, surface, dt, random_val, mu, polymer, polymersurfaceP, polymersurfaceN, epsi)\n",
    "        if i % hist_every == 0:\n",
    "            headhist[i // hist_every] = COM\n",
    "            surfacehist[i // hist_every] = surface\n",
    "        if i % print_every == 0:\n",
    "            print(\"Step\", i, \"/\", steps, \"COM:\", COM[0], COM[1], COM[2])\n",
    "            #print(surface)\n",
    "    return headhist, surfacehist"
   ],
   "outputs": [],
   "execution_count": 37
  },
  {
   "cell_type": "code",
   "id": "91ccd2901763ffa",
   "metadata": {
    "ExecuteTime": {
     "end_time": "2025-03-18T03:00:54.063312Z",
     "start_time": "2025-03-18T03:00:48.960716Z"
    }
   },
   "source": [
    "#-----------------------------------------------------------\n",
    "# 5. Main simulation parameters and execution.\n",
    "#-----------------------------------------------------------\n",
    "polymerLength = 10\n",
    "headN = 1\n",
    "steps = 1000000\n",
    "dt = 100 #fs\n",
    "#random_val = 0.01 # nm/sqrt(fs)\n",
    "mu = 0.01 #fs mol/g\n",
    "print_every = 1000000\n",
    "hist_every = 10000\n",
    "unit_distanceX = 4.13 #nm\n",
    "temp = 311.4  #K\n",
    "random_val = np.sqrt(2.0*8.314*(10.0**-3) * mu * temp)/1000.0\n",
    "\n",
    "\n",
    "\n",
    "# Initialize the system.\n",
    "polymer, COM, surface, polymersurfaceP, polymersurfaceN = polymergenerator(polymerLength, headN)\n",
    "#print(surface)\n",
    "# Run the simulation (the entire simulation loop is compiled for speed).\n",
    "start = time.perf_counter()\n",
    "headhist, surfacehist = simulate(COM, surface, polymer, polymersurfaceP, polymersurfaceN , steps, dt, random_val, mu, print_every, hist_every)\n",
    "print(\"Simulation complete. Final COM:\", headhist[-1])\n",
    "end = time.perf_counter()\n",
    "print(\"Elapsed (after compilation) = {}s\".format((end - start)))"
   ],
   "outputs": [
    {
     "name": "stdout",
     "output_type": "stream",
     "text": [
      "Step 0 / 1000000 COM: 15.504985647608477 39.984982587535036 20.993498322934478\n",
      "Step 1000000 / 1000000 COM: 15.934281645888982 37.8139860777117 19.980414226851984\n",
      "Simulation complete. Final COM: [15.80007952 37.1197936  20.19609026]\n",
      "Elapsed (after compilation) = 4.878370457998244s\n"
     ]
    }
   ],
   "execution_count": 236
  },
  {
   "cell_type": "code",
   "id": "334b89eb24907ad9",
   "metadata": {
    "ExecuteTime": {
     "end_time": "2025-03-18T03:00:54.312472Z",
     "start_time": "2025-03-18T03:00:54.090693Z"
    }
   },
   "source": [
    "# (This cell uses your original plotting tools.)\n",
    "render_everyN = 1\n",
    "orthogonal_distance = np.linalg.norm(headhist[::render_everyN, 1:3]-[20,20], axis=1)\n",
    "time_arr = np.arange(steps/(render_everyN*hist_every))\n",
    "\n",
    "#fig, ax = plt.subplots(2, gridspec_kw={'height_ratios': [4, 4]}, figsize=(10, 10))\n",
    "#fig, ax = plt.subplots(2,gridspec_kw={'height_ratios': [4, 4], \"width_ratios\": [1]}, figsize=(10,10))\n",
    "fig, ax = plt.subplots(2, figsize=(20,10), dpi=100)\n",
    "pos = ax[0].scatter(headhist[::render_everyN, 0], headhist[::render_everyN, 1], cmap=\"gist_rainbow\", c=time_arr, s=1)\n",
    "#ax[0].set_xlim(4.6, 6.4)\n",
    "#ax[0].set_ylim(-2.4, 2.4)\n",
    "#ax[0].set_aspect(\"equal\", adjustable=\"box\")\n",
    "perp = ax[1].scatter(headhist[::render_everyN, 0], orthogonal_distance[::], cmap=\"gist_rainbow\", c=time_arr, s=0.1)\n",
    "#ax[1].set_xlim(-0.6, 7.4)\n",
    "#ax[1].set_ylim(0.5, 4.5)\n",
    "#ax[1].set_aspect(\"equal\", adjustable=\"box\")\n",
    "fig.colorbar(pos, ax=ax, label='timestep')\n",
    "plt.show()"
   ],
   "outputs": [
    {
     "data": {
      "text/plain": [
       "<Figure size 2000x1000 with 3 Axes>"
      ],
      "image/png": "[encoded data removed]"
     },
     "metadata": {},
     "output_type": "display_data"
    }
   ],
   "execution_count": 237
  },
  {
   "cell_type": "code",
   "id": "a0dbe8d3b694fde2",
   "metadata": {
    "ExecuteTime": {
     "end_time": "2025-03-18T03:00:54.452213Z",
     "start_time": "2025-03-18T03:00:54.378929Z"
    }
   },
   "source": [
    "fig, ax = plt.subplots(dpi=100)\n",
    "figigi = ax.plot(time_arr[::], orthogonal_distance[::], linewidth=1)"
   ],
   "outputs": [
    {
     "data": {
      "text/plain": [
       "<Figure size 640x480 with 1 Axes>"
      ],
      "image/png": "[encoded data removed]"
     },
     "metadata": {},
     "output_type": "display_data"
    }
   ],
   "execution_count": 238
  },
  {
   "cell_type": "code",
   "id": "5cf7e32a606d099b",
   "metadata": {},
   "source": [
    "with open(\"trajectoryn.xyz\", \"w\") as f:\n",
    "    for t, positions in enumerate(np.concatenate(((np.reshape(headhist[::],(int(steps/hist_every),1,3))), surfacehist[::]),axis=1)):\n",
    "        f.write(f\"6 \\n \\n\")\n",
    "        f.write(f\"C1 {positions[0,0]:8.4f}{positions[0,1]:8.4f}{positions[0,2]:8.4f} \\n\")\n",
    "        f.write(f\"C2 {positions[1,0]:8.4f}{positions[1,1]:8.4f}{positions[1,2]:8.4f} \\n\")\n",
    "        f.write(f\"C3 {positions[2,0]:8.4f}{positions[2,1]:8.4f}{positions[2,2]:8.4f} \\n\")\n",
    "        f.write(f\"C4 {positions[3,0]:8.4f}{positions[3,1]:8.4f}{positions[3,2]:8.4f} \\n\")\n",
    "        f.write(f\"C5 {positions[4,0]:8.4f}{positions[4,1]:8.4f}{positions[4,2]:8.4f} \\n\")\n",
    "        f.write(f\"C6 {positions[5,0]:8.4f}{positions[5,1]:8.4f}{positions[5,2]:8.4f} \\n\")"
   ],
   "outputs": [],
   "execution_count": null
  },
  {
   "cell_type": "code",
   "id": "eac9e701dfe00dd7",
   "metadata": {},
   "source": [
    "    with open(\"polymerrn.xyz\", \"w\") as f:\n",
    "        f.write(f\"2800 \\n \\n\")\n",
    "        for i in range(polymerLength*14):\n",
    "            f.write(f\"C{2*i+7} {polymersurfaceP[i,0]:8.4f}{polymersurfaceP[i,1]:8.4f}{polymersurfaceP[i,2]:8.4f} \\n\")\n",
    "            f.write(f\"C{2*i+8} {polymersurfaceN[i,0]:8.4f}{polymersurfaceN[i,1]:8.4f}{polymersurfaceN[i,2]:8.4f} \\n\")\n",
    "    #for i in range(polymerLength):\n",
    "     #   f.write(f\"ATOM  {i+2:5d}  C   UNK     1    {i:8.4f}{0:8.4f}{0:8.4f}  1.00  0.00           C\\n\")"
   ],
   "outputs": [],
   "execution_count": null
  },
  {
   "cell_type": "code",
   "id": "d996c5429f3c56d5",
   "metadata": {},
   "source": [
    "import holoviews as hv\n",
    "import datashader as ds\n",
    "import holoviews.operation.datashader as hd\n",
    "import pandas as pd\n",
    "import numpy as np\n",
    "\n",
    "hv.extension('bokeh')\n",
    "\n",
    "# Use the same subsampling as before\n",
    "render_everyN = 1\n",
    "# Create a time array for the rendered points\n",
    "time_arr = np.arange(steps/(render_everyN*hist_every))\n",
    "\n",
    "# Prepare DataFrames for the two plots.\n",
    "# Plot 1: Scatter of COM x vs. COM y\n",
    "df1 = pd.DataFrame({\n",
    "    'x': headhist[::render_everyN, 0],\n",
    "    'y': headhist[::render_everyN, 1],\n",
    "    'time': headhist[::render_everyN, 0] * 0.0 + time_arr  # associate time (or use headhist if desired)\n",
    "})\n",
    "\n",
    "# Plot 2: Scatter of COM x vs. orthogonal distance\n",
    "orthogonal_distance = np.linalg.norm(headhist[::render_everyN, 1:3], axis=1)\n",
    "df2 = pd.DataFrame({\n",
    "    'x': headhist[::render_everyN, 0],\n",
    "    'y': orthogonal_distance,\n",
    "    'time': time_arr\n",
    "})\n",
    "\n",
    "# Create Holoviews Points objects.\n",
    "points1 = hv.Points(df1, kdims=['x', 'y'], vdims=['time'])\n",
    "points2 = hv.Points(df2, kdims=['x', 'y'], vdims=['time'])\n",
    "\n",
    "# Apply Datashader to each plot for interactive aggregation.\n",
    "shaded1 = hd.datashade(points1, cmap=\"gist_rainbow\", aggregator=ds.mean('time'))\n",
    "shaded2 = hd.datashade(points2, cmap=\"gist_rainbow\", aggregator=ds.mean('time'))\n",
    "\n",
    "# Set options (titles, colorbars, dimensions, etc.)\n",
    "shaded1 = shaded1.opts(title=\"COM Trajectory (x vs. y)\",\n",
    "                       frame_width=600, frame_height=400, bgcolor='black')\n",
    "shaded2 = shaded2.opts(title=\"COM Trajectory (x vs. Orthogonal Distance)\",\n",
    "                       frame_width=600, frame_height=200, bgcolor='black')\n",
    "\n",
    "# Layout the two plots vertically.\n",
    "layout = hv.Layout([shaded1, shaded2]).cols(1)\n",
    "layout"
   ],
   "outputs": [],
   "execution_count": null
  },
  {
   "metadata": {
    "ExecuteTime": {
     "end_time": "2025-03-18T03:06:31.349560Z",
     "start_time": "2025-03-18T03:06:31.345441Z"
    }
   },
   "cell_type": "code",
   "source": [
    "def plotter(headhistv,id, save=False):\n",
    "    plt.style.use('dark_background')\n",
    "    render_everyN = 1\n",
    "    orthogonal_distance = np.linalg.norm(headhistv[::render_everyN, 1:3]-[20,20], axis=1)\n",
    "    time_arr = np.arange(steps/(render_everyN*hist_every))\n",
    "\n",
    "    #fig, ax = plt.subplots(2, gridspec_kw={'height_ratios': [4, 4]}, figsize=(10, 10))\n",
    "    fig, ax = plt.subplots(ncols=2, nrows=2, figsize=(10,10), dpi=200) #gridspec_kw={'height_ratios': [4, 1], \"width_ratios\": [1]}\n",
    "    pos = ax[0,0].scatter(headhistv[::render_everyN, 0], headhistv[::render_everyN, 1], cmap=\"gist_rainbow\", c=time_arr, s=1)\n",
    "    #ax[0].set_xlim(4.6, 6.4)\n",
    "    #ax[0].set_ylim(-2.4, 2.4)\n",
    "    ax[0,0].set_aspect(\"equal\", adjustable=\"box\")\n",
    "    perp = ax[0,1].scatter(headhistv[::render_everyN, 0], orthogonal_distance[::], cmap=\"gist_rainbow\", c=time_arr, s=0.1)\n",
    "    #ax[1].set_xlim(-0.6, 7.4)\n",
    "    #ax[1].set_ylim(0.5, 4.5)\n",
    "    ax[0,1].set_aspect(\"equal\", adjustable=\"box\")\n",
    "    gs = ax[1, 0].get_gridspec()\n",
    "    fig.colorbar(pos, ax=ax[0,:], label='timestep', orientation='horizontal', shrink=0.95)\n",
    "    # remove the underlying Axes\n",
    "    for ax in ax[1,:]:\n",
    "        ax.remove()\n",
    "    axbig = fig.add_subplot(gs[1, :])\n",
    "    figigi = axbig.plot(time_arr[::], orthogonal_distance[::], linewidth=1)\n",
    "    plt.show()\n",
    "    fig.savefig(f'/Users/filiproch/PycharmProjects/LAMMPS/figures/ipyruns/engine{id}.png')\n"
   ],
   "id": "278e17f110175a1",
   "outputs": [],
   "execution_count": 2
  },
  {
   "metadata": {},
   "cell_type": "code",
   "source": [
    "for idx, res in enumerate(results):\n",
    "    print(f\"Engine {idx}:\")\n",
    "    plotter(res['headhist'], idx, True)\n",
    "    print(\"Elapsed (after compilation) = {}s\".format((res['elapsed'])))"
   ],
   "id": "d6a4d2fbccde9c3b",
   "outputs": [],
   "execution_count": null
  },
  {
   "metadata": {
    "jupyter": {
     "is_executing": true
    },
    "ExecuteTime": {
     "start_time": "2025-03-18T03:40:36.477579Z"
    }
   },
   "cell_type": "code",
   "source": [
    "# Connect to the cluster (this assumes you have already started engines)\n",
    "\n",
    "import ipyparallel as ipp\n",
    "\n",
    "\n",
    "polymerLength = 10\n",
    "headN = 1\n",
    "steps = 100000000\n",
    "dt = 100 #fs\n",
    "#random_val = 0.01 # nm/sqrt(fs)\n",
    "mu = 0.01 #fs mol/g\n",
    "print_every = 10000000\n",
    "hist_every = 10000\n",
    "unit_distanceX = 4.13 #nm\n",
    "temp = 311.4  #K\n",
    "random_val = np.sqrt(2.0*8.314*(10.0**-3) * mu * temp)/1000.0\n",
    "n_proc = 8\n",
    "rc = ipp.Cluster(n=n_proc).start_and_connect_sync()\n",
    "dv = rc[:]\n",
    "rc.ids\n",
    "#rc = ipp.Client()\n",
    "dview = rc[:]  # get a DirectView of all engines\n",
    "\n",
    "# Push the necessary simulation functions and parameters to each engine.\n",
    "# Adjust the names as needed to match your notebook's variables.\n",
    "dview.push({\n",
    "    'simulate': simulate,\n",
    "    'polymergenerator': polymergenerator,\n",
    "    'polymerLength': polymerLength,\n",
    "    'headN': headN,\n",
    "    'steps': steps,\n",
    "    'dt': dt,\n",
    "    'random_val': random_val,\n",
    "    'mu': mu,\n",
    "    'print_every': print_every,\n",
    "    'hist_every': hist_every\n",
    "})\n",
    "\n",
    "epsilons = []\n",
    "for n in range(n_proc): epsilons.append((0.0009+0.00001*n))\n",
    "dview.scatter('epsilon', epsilons)\n",
    "\n",
    "with dview.sync_imports():\n",
    "    import time\n",
    "\n",
    "# Define a function that runs one simulation instance.\n",
    "def run_simulation_instance():\n",
    "    print(epsilon)\n",
    "    # Initialize the system.\n",
    "    start = time.perf_counter()\n",
    "    polymer, COM, surface, polymersurfaceP, polymersurfaceN = polymergenerator(polymerLength, headN)\n",
    "    # Run the simulation (the entire simulation loop is compiled for speed).\n",
    "    headhist, surfacehist = simulate(COM, surface, polymer, polymersurfaceP, polymersurfaceN, steps, dt, random_val, mu, print_every, hist_every, epsilon[0])\n",
    "    end = time.perf_counter()\n",
    "    elapsed = end - start\n",
    "    return {'headhist': headhist, 'surfacehist': surfacehist, 'elapsed': elapsed}\n",
    "\n",
    "\n",
    "# Run one simulation instance on each engine in parallel.\n",
    "async_results = dview.apply_async(run_simulation_instance)\n",
    "#async_results.wait_interactive()\n",
    "# Wait for all to finish and gather the results.\n",
    "results = async_results.get()\n",
    "rc.shutdown(hub=True)\n",
    "\n",
    "# For example, print the final COM from each simulation.\n",
    "for idx, res in enumerate(results):\n",
    "    print(f\"Engine {idx}:\")\n",
    "    plotter(res['headhist'], idx, True)\n",
    "    print(\"Elapsed (after compilation) = {}s\".format((res['elapsed'])))\n"
   ],
   "id": "7e41f37ffa4a55a8",
   "outputs": [
    {
     "name": "stdout",
     "output_type": "stream",
     "text": [
      "Starting 8 engines with <class 'ipyparallel.cluster.launcher.LocalEngineSetLauncher'>\n"
     ]
    },
    {
     "data": {
      "text/plain": [
       "  0%|          | 0/8 [00:00<?, ?engine/s]"
      ],
      "application/vnd.jupyter.widget-view+json": {
       "version_major": 2,
       "version_minor": 0,
       "model_id": "2c0764a472394a15b079cb14e13eb3c8"
      }
     },
     "metadata": {},
     "output_type": "display_data"
    }
   ],
   "execution_count": null
  },
  {
   "metadata": {
    "ExecuteTime": {
     "end_time": "2025-03-18T03:28:08.422533Z",
     "start_time": "2025-03-18T03:28:08.355726Z"
    }
   },
   "cell_type": "code",
   "source": [
    "for idx, res in enumerate(results):\n",
    "    with open(f\"trajectoryn{idx}.xyz\", \"w\") as f:\n",
    "        for t, positions in enumerate(np.concatenate(((np.reshape(res['headhist'[::]],(int(steps/hist_every),1,3))), res['surfacehist'][::]),axis=1)):\n",
    "            f.write(f\"6 \\n \\n\")\n",
    "            f.write(f\"C1 {positions[0,0]:8.4f}{positions[0,1]:8.4f}{positions[0,2]:8.4f} \\n\")\n",
    "            f.write(f\"C2 {positions[1,0]:8.4f}{positions[1,1]:8.4f}{positions[1,2]:8.4f} \\n\")\n",
    "            f.write(f\"C3 {positions[2,0]:8.4f}{positions[2,1]:8.4f}{positions[2,2]:8.4f} \\n\")\n",
    "            f.write(f\"C4 {positions[3,0]:8.4f}{positions[3,1]:8.4f}{positions[3,2]:8.4f} \\n\")\n",
    "            f.write(f\"C5 {positions[4,0]:8.4f}{positions[4,1]:8.4f}{positions[4,2]:8.4f} \\n\")\n",
    "            f.write(f\"C6 {positions[5,0]:8.4f}{positions[5,1]:8.4f}{positions[5,2]:8.4f} \\n\")"
   ],
   "id": "2d79f752df39d8be",
   "outputs": [],
   "execution_count": 35
  },
  {
   "metadata": {},
   "cell_type": "code",
   "source": [
    "for idx, res in enumerate(results):\n",
    "    print(f\"Engine {idx}:\")\n",
    "    plotter(res['headhist'], idx, True)\n",
    "    print(\"Elapsed (after compilation) = {}s\".format((res['elapsed'])))"
   ],
   "id": "9561afe4e41e3ab2",
   "outputs": [],
   "execution_count": null
  },
  {
   "metadata": {
    "ExecuteTime": {
     "end_time": "2025-03-18T01:38:46.417797Z",
     "start_time": "2025-03-18T01:38:46.414925Z"
    }
   },
   "cell_type": "code",
   "source": "",
   "id": "13701b26e3cd346b",
   "outputs": [
    {
     "data": {
      "text/plain": [
       "<DirectView [0, 1, 2, 3,...]>"
      ]
     },
     "execution_count": 170,
     "metadata": {},
     "output_type": "execute_result"
    }
   ],
   "execution_count": 170
  },
  {
   "metadata": {
    "ExecuteTime": {
     "end_time": "2025-03-18T01:38:38.367525Z",
     "start_time": "2025-03-18T01:38:38.365083Z"
    }
   },
   "cell_type": "code",
   "source": "rc.ids",
   "id": "ebd8684372293ec7",
   "outputs": [
    {
     "data": {
      "text/plain": [
       "[]"
      ]
     },
     "execution_count": 169,
     "metadata": {},
     "output_type": "execute_result"
    }
   ],
   "execution_count": 169
  },
  {
   "metadata": {
    "ExecuteTime": {
     "end_time": "2025-03-18T00:56:17.571418Z",
     "start_time": "2025-03-18T00:56:17.552379Z"
    }
   },
   "cell_type": "code",
   "source": [
    "dview.scatter('e', epsilon)\n",
    "\n",
    "\n",
    "def runepsi():\n",
    "    return(type(e[0]))\n",
    "\n",
    "\n",
    "asyres = dview.apply_async(runepsi)\n",
    "res = asyres.get()\n",
    "res"
   ],
   "id": "d0111bced403b25",
   "outputs": [
    {
     "data": {
      "text/plain": [
       "[float, float, float, float, float, float]"
      ]
     },
     "execution_count": 132,
     "metadata": {},
     "output_type": "execute_result"
    }
   ],
   "execution_count": 132
  },
  {
   "metadata": {
    "ExecuteTime": {
     "end_time": "2025-03-18T00:50:39.421159Z",
     "start_time": "2025-03-18T00:50:39.406463Z"
    }
   },
   "cell_type": "code",
   "source": "dview[\"epsilon\"][0]",
   "id": "5f9dd5e2f44fd283",
   "outputs": [
    {
     "ename": "AttributeError",
     "evalue": "'list' object has no attribute 'dtype'",
     "output_type": "error",
     "traceback": [
      "\u001B[0;31m---------------------------------------------------------------------------\u001B[0m",
      "\u001B[0;31mAttributeError\u001B[0m                            Traceback (most recent call last)",
      "Cell \u001B[0;32mIn[116], line 1\u001B[0m\n\u001B[0;32m----> 1\u001B[0m \u001B[43mdview\u001B[49m\u001B[43m[\u001B[49m\u001B[38;5;124;43m\"\u001B[39;49m\u001B[38;5;124;43mepsilon\u001B[39;49m\u001B[38;5;124;43m\"\u001B[39;49m\u001B[43m]\u001B[49m\u001B[43m[\u001B[49m\u001B[38;5;241;43m0\u001B[39;49m\u001B[43m]\u001B[49m\u001B[38;5;241;43m.\u001B[39;49m\u001B[43mdtype\u001B[49m()\n",
      "\u001B[0;31mAttributeError\u001B[0m: 'list' object has no attribute 'dtype'"
     ]
    }
   ],
   "execution_count": 116
  },
  {
   "metadata": {
    "ExecuteTime": {
     "end_time": "2025-03-18T01:14:19.506975Z",
     "start_time": "2025-03-18T01:14:19.498066Z"
    }
   },
   "cell_type": "code",
   "source": "sum(results['elapsed'])",
   "id": "5209b8f8b3022b89",
   "outputs": [
    {
     "ename": "TypeError",
     "evalue": "list indices must be integers or slices, not str",
     "output_type": "error",
     "traceback": [
      "\u001B[0;31m---------------------------------------------------------------------------\u001B[0m",
      "\u001B[0;31mTypeError\u001B[0m                                 Traceback (most recent call last)",
      "Cell \u001B[0;32mIn[137], line 1\u001B[0m\n\u001B[0;32m----> 1\u001B[0m \u001B[38;5;28msum\u001B[39m(\u001B[43mresults\u001B[49m\u001B[43m[\u001B[49m\u001B[38;5;124;43m'\u001B[39;49m\u001B[38;5;124;43melapsed\u001B[39;49m\u001B[38;5;124;43m'\u001B[39;49m\u001B[43m]\u001B[49m)\n",
      "\u001B[0;31mTypeError\u001B[0m: list indices must be integers or slices, not str"
     ]
    }
   ],
   "execution_count": 137
  },
  {
   "metadata": {
    "ExecuteTime": {
     "end_time": "2025-03-18T02:10:10.734789Z",
     "start_time": "2025-03-18T02:10:10.732520Z"
    }
   },
   "cell_type": "code",
   "source": [
    "mysum = 0\n",
    "for n in range(10): mysum+=(results[n])[\"elapsed\"]"
   ],
   "id": "2dda4369f25a6bc7",
   "outputs": [],
   "execution_count": 191
  },
  {
   "metadata": {
    "ExecuteTime": {
     "end_time": "2025-03-18T02:01:49.144504Z",
     "start_time": "2025-03-18T02:01:49.142137Z"
    }
   },
   "cell_type": "code",
   "source": "mysum/9# 239s avg to run for 9 processes",
   "id": "cb953061975df08d",
   "outputs": [
    {
     "data": {
      "text/plain": [
       "239.34463546743953"
      ]
     },
     "execution_count": 187,
     "metadata": {},
     "output_type": "execute_result"
    }
   ],
   "execution_count": 187
  },
  {
   "metadata": {
    "ExecuteTime": {
     "end_time": "2025-03-18T02:10:20.912827Z",
     "start_time": "2025-03-18T02:10:20.910649Z"
    }
   },
   "cell_type": "code",
   "source": "mysum/10# 251s avg, 4min30 overall",
   "id": "746bab2dcee5900e",
   "outputs": [
    {
     "data": {
      "text/plain": [
       "251.62784361659723"
      ]
     },
     "execution_count": 192,
     "metadata": {},
     "output_type": "execute_result"
    }
   ],
   "execution_count": 192
  },
  {
   "metadata": {
    "ExecuteTime": {
     "end_time": "2025-03-18T01:34:27.336743Z",
     "start_time": "2025-03-18T01:34:27.334034Z"
    }
   },
   "cell_type": "code",
   "source": "300/12 # 5min 15s in total for 12 processes",
   "id": "35326b2571bcd846",
   "outputs": [
    {
     "data": {
      "text/plain": [
       "27.75"
      ]
     },
     "execution_count": 167,
     "metadata": {},
     "output_type": "execute_result"
    }
   ],
   "execution_count": 167
  },
  {
   "metadata": {
    "ExecuteTime": {
     "end_time": "2025-03-18T01:44:11.440827Z",
     "start_time": "2025-03-18T01:44:11.438185Z"
    }
   },
   "cell_type": "code",
   "source": "ipp.ClusterManager()",
   "id": "c5cbaa7279fd5c9f",
   "outputs": [
    {
     "data": {
      "text/plain": [
       "<ipyparallel.cluster.cluster.ClusterManager at 0x335bceb40>"
      ]
     },
     "execution_count": 179,
     "metadata": {},
     "output_type": "execute_result"
    }
   ],
   "execution_count": 179
  },
  {
   "metadata": {
    "ExecuteTime": {
     "end_time": "2025-03-18T03:15:18.012962Z",
     "start_time": "2025-03-18T03:15:18.010439Z"
    }
   },
   "cell_type": "code",
   "source": [
    "epsilons = np.arange(0.0032, 0.0064, 0.0004, dtype=float).tolist()\n",
    "epsilons.tolist()"
   ],
   "id": "50e391d480a13f23",
   "outputs": [
    {
     "data": {
      "text/plain": [
       "b'-C\\x1c\\xeb\\xe26j?\\x93\\xcb\\x7fH\\xbf}m?\\xfc\\xa9\\xf1\\xd2Mbp?0n\\xa3\\x01\\xbc\\x05r?b2U0*\\xa9s?\\x96\\xf6\\x06_\\x98Lu?\\xc8\\xba\\xb8\\x8d\\x06\\xf0v?\\xfc~j\\xbct\\x93x?'"
      ]
     },
     "execution_count": 18,
     "metadata": {},
     "output_type": "execute_result"
    }
   ],
   "execution_count": 18
  },
  {
   "metadata": {
    "ExecuteTime": {
     "end_time": "2025-03-18T03:18:55.146503Z",
     "start_time": "2025-03-18T03:18:55.133054Z"
    }
   },
   "cell_type": "code",
   "source": "",
   "id": "90b89e35c66d88d0",
   "outputs": [
    {
     "ename": "TypeError",
     "evalue": "'float' object cannot be interpreted as an integer",
     "output_type": "error",
     "traceback": [
      "\u001B[31m---------------------------------------------------------------------------\u001B[39m",
      "\u001B[31mTypeError\u001B[39m                                 Traceback (most recent call last)",
      "\u001B[36mCell\u001B[39m\u001B[36m \u001B[39m\u001B[32mIn[27]\u001B[39m\u001B[32m, line 1\u001B[39m\n\u001B[32m----> \u001B[39m\u001B[32m1\u001B[39m \u001B[38;5;28mlist\u001B[39m(\u001B[38;5;28;43mrange\u001B[39;49m\u001B[43m(\u001B[49m\u001B[32;43m2.5\u001B[39;49m\u001B[43m,\u001B[49m\u001B[43m \u001B[49m\u001B[32;43m8\u001B[39;49m\u001B[43m,\u001B[49m\u001B[43m \u001B[49m\u001B[32;43m2\u001B[39;49m\u001B[43m)\u001B[49m)\n",
      "\u001B[31mTypeError\u001B[39m: 'float' object cannot be interpreted as an integer"
     ]
    }
   ],
   "execution_count": 27
  },
  {
   "metadata": {
    "ExecuteTime": {
     "end_time": "2025-03-18T03:20:14.404610Z",
     "start_time": "2025-03-18T03:20:14.402082Z"
    }
   },
   "cell_type": "code",
   "source": [
    "\n",
    "epsilons"
   ],
   "id": "fb1bd8ebcbff6eb9",
   "outputs": [
    {
     "data": {
      "text/plain": [
       "[0.0038, 0.0042, 0.0046, 0.005, 0.0054, 0.0058, 0.006200000000000001, 0.0066]"
      ]
     },
     "execution_count": 30,
     "metadata": {},
     "output_type": "execute_result"
    }
   ],
   "execution_count": 30
  },
  {
   "metadata": {},
   "cell_type": "code",
   "outputs": [],
   "execution_count": null,
   "source": "",
   "id": "f82320fb441e752b"
  }
 ],
 "metadata": {
  "kernelspec": {
   "display_name": "Python 3 (ipykernel)",
   "language": "python",
   "name": "python3"
  },
  "language_info": {
   "codemirror_mode": {
    "name": "ipython",
    "version": 3
   },
   "file_extension": ".py",
   "mimetype": "text/x-python",
   "name": "python",
   "nbconvert_exporter": "python",
   "pygments_lexer": "ipython3",
   "version": "3.12.4"
  }
 },
 "nbformat": 4,
 "nbformat_minor": 5
}
