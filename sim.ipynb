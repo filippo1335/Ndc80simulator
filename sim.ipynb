{
 "cells": [
  {
   "metadata": {
    "ExecuteTime": {
     "end_time": "2025-03-10T13:42:02.241748Z",
     "start_time": "2025-03-10T13:42:02.066012Z"
    }
   },
   "cell_type": "code",
   "source": [
    "import sys\n",
    "from numba import jit\n",
    "import numpy as np\n",
    "import timeit\n",
    "polymerLenght = 10\n",
    "headN = 1\n",
    "\n",
    "# DEFINE SYSTEM\n",
    "\n",
    "def polymergenerator(polymerl, headl):\n",
    "    COM = [5, 2.5, 0.60]                         # centre of mass for the particle\n",
    "    polymer = np.array((range(polymerl), np.zeros(polymerl), np.zeros(polymerl))).T  # create linear polymer\n",
    "    polymersurface = polymer + [0,0.5,0]\n",
    "    headsurface = np.array((COM,COM,COM,COM))\n",
    "    headsurface += np.array([[0.1,0,0],[0,0.1,0],[-0.1,0,0],[0,-0.1,0.0]]) # create surface domains aorund COM\n",
    "    return polymer, polymersurface, COM, headsurface\n",
    "\n",
    "\"\"\"# DEFINE FORCES\n",
    "def lj(a, b, epsilon=0.2, sigma=1.0, mass = 1, random = 0.1, random_forces_summ = random_forces_sum):\n",
    "    dif = a - b\n",
    "    dist = np.sqrt(np.sum(np.square(dif), axis=1))\n",
    "    f = 24 * epsilon * (-2*(sigma**12 / dist**13) + (sigma**6 / dist**7))\n",
    "    vector = dif / np.array((dist, dist, dist)).T\n",
    "    random_forces = np.random.uniform(-random, random, (3,))\n",
    "    forcevector = np.sum(vector * np.array((f, f, f)).T, axis=0) + random_forces\n",
    "    random_forces_summ += random_forces\n",
    "    # a = forcevector/mass \n",
    "    return forcevector, random_forces_summ\n",
    "    \n",
    "    \n",
    "# DEFINE INTEGRATION ALG\n",
    "def verlet(positions, velocities, accelerations, dt, random):\n",
    "    positions = positions + velocities * dt + (accelerations/2) * (dt**2)\n",
    "    accelerationst1, random_forces_summ = lj(polymer, positions, random = random)\n",
    "    velocities =  velocities + (accelerationst1 + accelerations) * (dt/2)\n",
    "    return positions, velocities, accelerationst1, random_forces_summ\n",
    "\"\"\"\n",
    "\n",
    "def lj_brownian(a, b, epsilon=0.1, sigma=2):\n",
    "    dif = a - b\n",
    "    dist = np.sqrt(np.sum(np.square(dif), axis=1))\n",
    "    f = 24 * epsilon * (-2*(sigma**12 / dist**13))  + (sigma**6 / dist**7)\n",
    "    vector = dif / np.array((dist, dist, dist)).T\n",
    "    forcevector = np.sum(vector * np.array((f, f, f)).T, axis=0)\n",
    "    return forcevector\n",
    "\n",
    "def lj_repulsive(a, b, epsilon=0.1, sigma=2):\n",
    "    dif = a - b\n",
    "    dist = np.sqrt(np.sum(np.square(dif), axis=1))\n",
    "    f = 24 * epsilon * (-2*(sigma**12 / dist**13))\n",
    "    vector = dif / np.array((dist, dist, dist)).T\n",
    "    forcevector = np.sum(vector * np.array((f, f, f)).T, axis=0)\n",
    "    return forcevector\n",
    "\n",
    "def harmonic_angle(surface, COM, n, theta=np.pi/2, K=2.0, random=0.1):\n",
    "    ab = surface - COM\n",
    "    bc = np.roll(surface, n, axis=0) - COM\n",
    "    ab_norm = np.linalg.norm(ab, axis=1)   # shape: (N-1,)\n",
    "    bc_norm = np.linalg.norm(bc, axis=1)   # shape: (N-1,)\n",
    "    cos_angle = np.sum(ab * bc, axis=1) / (ab_norm * bc_norm)\n",
    "    cos_angle = np.clip(cos_angle, -1, 1)\n",
    "    angle_diff = theta - np.arccos(cos_angle)   # shape: (N-1,)\n",
    "    cross_inner = np.cross(bc, ab)   # shape: (N-1, 3)\n",
    "    vector = np.cross(ab, cross_inner)  # shape: (N-1, 3)\n",
    "    vec_norm = np.linalg.norm(vector, axis=1)  # shape: (N-1,)\n",
    "    with np.errstate(divide='ignore', invalid='ignore'):\n",
    "        force = -2 * K * angle_diff[:, np.newaxis] * vector / vec_norm[:, np.newaxis]\n",
    "        force[vec_norm == 0] = 0\n",
    "    return force\n",
    "    \n",
    "\n",
    "       \n",
    "def harmonic_surface(surface, COM, epsilon=1, sigma=0.1, random=0.1):\n",
    "    ab = surface - COM\n",
    "    ab_norm = np.linalg.norm(ab, axis=1)\n",
    "    force = 2*epsilon*(sigma-ab_norm)[:,np.newaxis]*ab/ab_norm[:, np.newaxis]\n",
    "    return force\n",
    "\n",
    "\n",
    "def notverlet(COM, surface, dt, random, mu = 1, diagnostics = False):\n",
    "    #random_forces = np.random.uniform(-random, random, (3,))\n",
    "    angle_forces = harmonic_angle(surface, COM, 1) + harmonic_angle(surface, COM, -1) + harmonic_angle(surface, COM, 2, np.pi)\n",
    "    if diagnostics: print(angle_forces, COM)\n",
    "    harmonic_bond = harmonic_surface(surface, COM)\n",
    "    surface = surface + (mu*(angle_forces + harmonic_bond + np.array(([0,0,0],[0,0,0],lj_brownian(polymersurface,surface[3],0.1,0.02),[0,0,0])))+0.001*np.random.uniform(-random, random, (4,3)))*dt\n",
    "    COM = COM + (mu * (lj_repulsive(polymer, COM, epsilon = 0.1, sigma=0.5) - np.sum(harmonic_bond, axis=0) - np.sum(angle_forces)) + np.random.uniform(-random, random, (3,))) * dt\n",
    "    return COM, surface\n"
   ],
   "id": "46049b77d40b9588",
   "outputs": [],
   "execution_count": 1
  },
  {
   "metadata": {
    "ExecuteTime": {
     "end_time": "2025-03-10T13:42:04.409749Z",
     "start_time": "2025-03-10T13:42:03.020640Z"
    }
   },
   "cell_type": "code",
   "source": [
    "polymer, polymersurface, COMx, surfacex = polymergenerator(polymerLenght, headN)\n",
    "seed = 1\n",
    "steps = 5000\n",
    "print_every = 10000\n",
    "\n",
    "#track history positions, velocities and accelerations \n",
    "headhist = np.zeros((int(steps), 3))\n",
    "surfacehist = np.zeros((int(steps), 4, 3))\n",
    "headhist[0] = COMx\n",
    "surfacehist[0] = surfacex\n",
    "\n",
    "# RUN\n",
    "for i in range(steps):\n",
    "    if i == 0: diagnostics_tiemstep = True\n",
    "    else: diagnostics_tiemstep = False\n",
    "    COMx, surfacex = notverlet(COMx,surfacex, 0.01, random = 0.01, diagnostics = diagnostics_tiemstep)\n",
    "    if i%print_every == 0: print(i, COMx) # sanity check output to console\n",
    "    headhist[i] = COMx\n",
    "    surfacehist[i] = surfacex"
   ],
   "id": "886590226a621655",
   "outputs": [
    {
     "name": "stdout",
     "output_type": "stream",
     "text": [
      "[[0. 0. 0.]\n",
      " [0. 0. 0.]\n",
      " [0. 0. 0.]\n",
      " [0. 0. 0.]] [5, 2.5, 0.6]\n",
      "0 [5.00005271 2.50003984 0.60009861]\n"
     ]
    }
   ],
   "execution_count": 2
  },
  {
   "metadata": {
    "ExecuteTime": {
     "end_time": "2025-02-24T12:29:08.470404Z",
     "start_time": "2025-02-24T12:29:08.315997Z"
    }
   },
   "cell_type": "code",
   "source": [
    "import matplotlib.pyplot as plt\n",
    "orthogonal_distance = np.linalg.norm(headhist[::20,1:], axis=1)\n",
    "\n",
    "time = np.arange(steps)\n",
    "fig, ax = plt.subplots(2,gridspec_kw={'height_ratios': [4, 1], \"width_ratios\": [1]}, figsize=(10,10))\n",
    "pos = ax[0].scatter(headhist[::20,0], headhist[::20,1], cmap=\"gist_rainbow\", c=time[::20], s=1)\n",
    "ax[0].set_xlim(1.6, 7.4)\n",
    "ax[0].set_ylim(-2.4, 4.4)\n",
    "ax[0].set_aspect(\"equal\", adjustable=\"box\")\n",
    "perp = ax[1].scatter(headhist[::20,0], orthogonal_distance , cmap=\"hsv\", c=time[::20], s=0.1)\n",
    "ax[1].set_xlim(-0.6, 10.4)\n",
    "ax[1].set_ylim(0.5, 4.6)\n",
    "fig.colorbar(pos, label='timestep')"
   ],
   "id": "18e2847ebbf850e3",
   "outputs": [
    {
     "data": {
      "text/plain": [
       "<matplotlib.colorbar.Colorbar at 0x164f748c0>"
      ]
     },
     "execution_count": 17,
     "metadata": {},
     "output_type": "execute_result"
    },
    {
     "data": {
      "text/plain": [
       "<Figure size 1000x1000 with 3 Axes>"
      ],
      "image/png": "[encoded data removed]"
     },
     "metadata": {},
     "output_type": "display_data"
    }
   ],
   "execution_count": 17
  },
  {
   "metadata": {
    "ExecuteTime": {
     "end_time": "2025-02-03T21:55:57.681722Z",
     "start_time": "2025-02-03T21:55:57.677873Z"
    }
   },
   "cell_type": "code",
   "source": [
    "\"\"\"with open(\"trajectory.pdb\", \"w\") as f:\n",
    "    for t, positions in enumerate(headhist[::200]):  # Save every 100th frame\n",
    "        f.write(f\"MODEL     {t + 1}\\n\")\n",
    "        f.write(f\"ATOM  {1:5d}  C   UNK     1    {positions[0]:8.3f}{positions[1]:8.3f}{positions[2]:8.3f}  1.00  0.00           C\\n\")\n",
    "        f.write(f\"ATOM  {1:5d}  CA   UNK     1    {positions[0]:8.3f}{positions[1]:8.3f}{positions[2]:8.3f}  1.00  0.00           C\\n\")\n",
    "        f.write(f\"ATOM  {1:5d}  CB   UNK     1    {positions[0]:8.3f}{positions[1]:8.3f}{positions[2]:8.3f}  1.00  0.00           C\\n\")\n",
    "        f.write(f\"ATOM  {1:5d}  S   UNK     1    {positions[0]:8.3f}{positions[1]:8.3f}{positions[2]:8.3f}  1.00  0.00           S\\n\")\n",
    "        f.write(f\"ATOM  {1:5d}  N   UNK     1    {positions[0]:8.3f}{positions[1]:8.3f}{positions[2]:8.3f}  1.00  0.00           N\\n\")\n",
    "        f.write(\"ENDMDL\\n\")\n",
    "        \"\"\""
   ],
   "id": "81e1d03f3dcf7774",
   "outputs": [
    {
     "data": {
      "text/plain": [
       "'with open(\"trajectory.pdb\", \"w\") as f:\\n    for t, positions in enumerate(headhist[::200]):  # Save every 100th frame\\n        f.write(f\"MODEL     {t + 1}\\n\")\\n        f.write(f\"ATOM  {1:5d}  C   UNK     1    {positions[0]:8.3f}{positions[1]:8.3f}{positions[2]:8.3f}  1.00  0.00           C\\n\")\\n        f.write(f\"ATOM  {1:5d}  CA   UNK     1    {surface[0]:8.3f}{positions[1]:8.3f}{positions[2]:8.3f}  1.00  0.00           C\\n\")\\n        f.write(f\"ATOM  {1:5d}  CB   UNK     1    {positions[0]:8.3f}{positions[1]:8.3f}{positions[2]:8.3f}  1.00  0.00           C\\n\")\\n        f.write(f\"ATOM  {1:5d}  S   UNK     1    {positions[0]:8.3f}{positions[1]:8.3f}{positions[2]:8.3f}  1.00  0.00           S\\n\")\\n        f.write(f\"ATOM  {1:5d}  N   UNK     1    {positions[0]:8.3f}{positions[1]:8.3f}{positions[2]:8.3f}  1.00  0.00           N\\n\")\\n        f.write(\"ENDMDL\\n\")'"
      ]
     },
     "execution_count": 219,
     "metadata": {},
     "output_type": "execute_result"
    }
   ],
   "execution_count": 219
  },
  {
   "metadata": {
    "ExecuteTime": {
     "end_time": "2025-02-24T12:24:47.627261Z",
     "start_time": "2025-02-24T12:24:47.616805Z"
    }
   },
   "cell_type": "code",
   "source": [
    "with open(\"trajectory.pdb\", \"w\") as f:\n",
    "    for t, positions in enumerate(np.concatenate(((np.reshape(headhist[::100],(500,1,3))), surfacehist[::100]),axis=1)):  # Save every 100th frame\n",
    "        f.write(f\"MODEL     {t + 1}\\n\")\n",
    "        f.write(f\"ATOM  {1:5d}  C   UNK     1    {positions[0,0]:8.3f}{positions[0,1]:8.3f}{positions[0,2]:8.3f}  1.00  0.00           C\\n\")\n",
    "        f.write(f\"ATOM  {2:5d}  CA   UNK     1    {positions[1,0]:8.3f}{positions[1,1]:8.3f}{positions[1,2]:8.3f}  1.00  0.00           C\\n\")\n",
    "        f.write(f\"ATOM  {3:5d}  CB   UNK     1    {positions[2,0]:8.3f}{positions[2,1]:8.3f}{positions[2,2]:8.3f}  1.00  0.00           C\\n\")\n",
    "        f.write(f\"ATOM  {4:5d}  O   UNK     1    {positions[3,0]:8.3f}{positions[3,1]:8.3f}{positions[3,2]:8.3f}  1.00  0.00           O\\n\")\n",
    "        f.write(f\"ATOM  {5:5d}  N   UNK     1    {positions[4,0]:8.3f}{positions[4,1]:8.3f}{positions[4,2]:8.3f}  1.00  0.00           N\\n\")\n",
    "        f.write(\"ENDMDL\\n\")"
   ],
   "id": "6f4b17a4ad16ffed",
   "outputs": [],
   "execution_count": 11
  },
  {
   "metadata": {
    "ExecuteTime": {
     "end_time": "2025-02-24T12:24:50.870454Z",
     "start_time": "2025-02-24T12:24:50.867274Z"
    }
   },
   "cell_type": "code",
   "source": [
    "with open(\"polymerr.pdb\", \"w\") as f:\n",
    "    for i in range(polymerLenght):\n",
    "        f.write(f\"ATOM  {i+2:5d}  C   UNK     1    {i:8.3f}{0:8.3f}{0:8.3f}  1.00  0.00           C\\n\")"
   ],
   "id": "f9b52dc93e371aee",
   "outputs": [],
   "execution_count": 12
  },
  {
   "metadata": {
    "ExecuteTime": {
     "end_time": "2025-02-24T12:32:07.161681Z",
     "start_time": "2025-02-24T12:32:07.151909Z"
    }
   },
   "cell_type": "code",
   "source": [
    "with open(\"trajectory.xyz\", \"w\") as f:\n",
    "    for t, positions in enumerate(np.concatenate(((np.reshape(headhist[::100],(500,1,3))), surfacehist[::100]),axis=1)):\n",
    "        f.write(f\"5 \\n \\n\")\n",
    "        f.write(f\"C1 {positions[0,0]:8.3f}{positions[0,1]:8.3f}{positions[0,2]:8.3f} \\n\")\n",
    "        f.write(f\"C2 {positions[1,0]:8.3f}{positions[1,1]:8.3f}{positions[1,2]:8.3f} \\n\")\n",
    "        f.write(f\"C3 {positions[2,0]:8.3f}{positions[2,1]:8.3f}{positions[2,2]:8.3f} \\n\")\n",
    "        f.write(f\"C4 {positions[3,0]:8.3f}{positions[3,1]:8.3f}{positions[3,2]:8.3f} \\n\")\n",
    "        f.write(f\"C5 {positions[4,0]:8.3f}{positions[4,1]:8.3f}{positions[4,2]:8.3f} \\n\")"
   ],
   "id": "5cf7e32a606d099b",
   "outputs": [],
   "execution_count": 21
  },
  {
   "metadata": {
    "ExecuteTime": {
     "end_time": "2025-02-10T15:39:52.555914Z",
     "start_time": "2025-02-10T15:39:52.552141Z"
    }
   },
   "cell_type": "code",
   "source": "np.linalg.norm(surfacehist[-1]-headhist[-1], axis=1)",
   "id": "efd298d5669b9b78",
   "outputs": [
    {
     "data": {
      "text/plain": [
       "array([0.12727554, 0.13525558, 0.1080009 , 0.10014226])"
      ]
     },
     "execution_count": 12,
     "metadata": {},
     "output_type": "execute_result"
    }
   ],
   "execution_count": 12
  },
  {
   "metadata": {
    "ExecuteTime": {
     "end_time": "2025-02-10T16:08:31.871897Z",
     "start_time": "2025-02-10T16:08:31.869295Z"
    }
   },
   "cell_type": "code",
   "source": [
    "surface_test = np.array([[5.10976304, 2.49865677, 0.59131925],\n",
    "       [5.00296914, 2.59107846, 0.59861942],\n",
    "       [4.89298207, 2.49376377, 0.5964134 ],\n",
    "       [4.99730706, 2.39156799, 0.59120903]])"
   ],
   "id": "5228f1582e358c47",
   "outputs": [],
   "execution_count": 13
  },
  {
   "metadata": {
    "ExecuteTime": {
     "end_time": "2025-02-10T16:14:49.534302Z",
     "start_time": "2025-02-10T16:14:49.529922Z"
    }
   },
   "cell_type": "code",
   "source": "notverlet(COMx, surface_test ,0.01, 0)",
   "id": "3eb979ab15603f1c",
   "outputs": [
    {
     "data": {
      "text/plain": [
       "(array([5.00004662, 2.49962828, 0.59996574]),\n",
       " array([[5.10993573, 2.50037282, 0.59580312],\n",
       "        [4.99820618, 2.59146838, 0.6023985 ],\n",
       "        [4.89239831, 2.50357644, 0.60111204],\n",
       "        [5.00065273, 2.39134463, 0.59512305]]))"
      ]
     },
     "execution_count": 22,
     "metadata": {},
     "output_type": "execute_result"
    }
   ],
   "execution_count": 22
  },
  {
   "metadata": {
    "ExecuteTime": {
     "end_time": "2025-02-19T16:13:13.537662Z",
     "start_time": "2025-02-19T16:13:13.534551Z"
    }
   },
   "cell_type": "code",
   "source": "COMx",
   "id": "e0ee0545223fbf13",
   "outputs": [
    {
     "data": {
      "text/plain": [
       "array([4.98969646, 2.50535137, 0.60989463])"
      ]
     },
     "execution_count": 9,
     "metadata": {},
     "output_type": "execute_result"
    }
   ],
   "execution_count": 9
  },
  {
   "metadata": {
    "ExecuteTime": {
     "end_time": "2025-02-24T12:22:04.273262Z",
     "start_time": "2025-02-24T12:22:04.268966Z"
    }
   },
   "cell_type": "code",
   "source": "surfacex.shape",
   "id": "96c9e967f778ee7",
   "outputs": [
    {
     "data": {
      "text/plain": [
       "(4, 3)"
      ]
     },
     "execution_count": 3,
     "metadata": {},
     "output_type": "execute_result"
    }
   ],
   "execution_count": 3
  },
  {
   "metadata": {
    "ExecuteTime": {
     "end_time": "2025-02-19T16:11:47.981634Z",
     "start_time": "2025-02-19T16:11:47.980018Z"
    }
   },
   "cell_type": "code",
   "source": "",
   "id": "e1208e0cf5735266",
   "outputs": [],
   "execution_count": 3
  },
  {
   "metadata": {},
   "cell_type": "code",
   "outputs": [],
   "execution_count": null,
   "source": "",
   "id": "bf999daa9521c78b"
  }
 ],
 "metadata": {
  "kernelspec": {
   "display_name": "Python 3",
   "language": "python",
   "name": "python3"
  },
  "language_info": {
   "codemirror_mode": {
    "name": "ipython",
    "version": 2
   },
   "file_extension": ".py",
   "mimetype": "text/x-python",
   "name": "python",
   "nbconvert_exporter": "python",
   "pygments_lexer": "ipython2",
   "version": "2.7.6"
  }
 },
 "nbformat": 4,
 "nbformat_minor": 5
}
