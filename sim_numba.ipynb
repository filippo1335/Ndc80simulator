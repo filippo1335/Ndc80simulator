{
 "cells": [
  {
   "metadata": {
    "ExecuteTime": {
     "end_time": "2025-02-06T16:33:17.354561Z",
     "start_time": "2025-02-06T16:33:17.328876Z"
    }
   },
   "cell_type": "code",
   "source": [
    "import numpy as np\n",
    "from numba import njit\n",
    "import matplotlib.pyplot as plt\n",
    "import time\n",
    "#-----------------------------------------------------------\n",
    "# 1. Create the initial system configuration.\n",
    "#-----------------------------------------------------------\n",
    "@njit\n",
    "def polymergenerator(polymerl, headl):\n",
    "    # Use a NumPy array for the center-of-mass (COM)\n",
    "    COM = np.array([5.0, 2.5, 0.60])\n",
    "    # Create a linear polymer (each row is a 3D coordinate)\n",
    "    polymer = np.empty((polymerl, 3))\n",
    "    for i in range(polymerl):\n",
    "        polymer[i, 0] = float(i)\n",
    "        polymer[i, 1] = 0.0\n",
    "        polymer[i, 2] = 0.0\n",
    "    # Shift the polymer to create a surface\n",
    "    polymersurface = np.empty((polymerl, 3))\n",
    "    for i in range(polymerl):\n",
    "        polymersurface[i, 0] = polymer[i, 0]\n",
    "        polymersurface[i, 1] = polymer[i, 1] + 0.5\n",
    "        polymersurface[i, 2] = polymer[i, 2]\n",
    "    # Create a head surface (with 4 atoms surrounding COM)\n",
    "    headsurface = np.empty((4, 3))\n",
    "    for i in range(4):\n",
    "        headsurface[i, 0] = COM[0]\n",
    "        headsurface[i, 1] = COM[1]\n",
    "        headsurface[i, 2] = COM[2]\n",
    "    # Add small offsets\n",
    "    offsets = np.array([[0.1, 0.0, 0.0],\n",
    "                        [0.0, 0.1, 0.0],\n",
    "                        [-0.1, 0.0, 0.0],\n",
    "                        [0.0, -0.1, 0.0]])\n",
    "    for i in range(4):\n",
    "        headsurface[i, 0] += offsets[i, 0]\n",
    "        headsurface[i, 1] += offsets[i, 1]\n",
    "        headsurface[i, 2] += offsets[i, 2]\n",
    "    return polymer, polymersurface, COM, headsurface\n",
    "\n",
    "#-----------------------------------------------------------\n",
    "# 2. Define force‐calculation functions.\n",
    "#-----------------------------------------------------------\n",
    "@njit\n",
    "def lj_brownian(a, b, epsilon=0.1, sigma=2.0):\n",
    "    \"\"\"\n",
    "    Computes a Lennard-Jones-type force between each point in array a and the single point b.\n",
    "    \"\"\"\n",
    "    N = a.shape[0]\n",
    "    f_total0 = 0.0\n",
    "    f_total1 = 0.0\n",
    "    f_total2 = 0.0\n",
    "    for i in range(N):\n",
    "        dif0 = a[i, 0] - b[0]\n",
    "        dif1 = a[i, 1] - b[1]\n",
    "        dif2 = a[i, 2] - b[2]\n",
    "        dist = np.sqrt(dif0*dif0 + dif1*dif1 + dif2*dif2)\n",
    "        if dist == 0:\n",
    "            continue\n",
    "        f_val = 24 * epsilon * (-2*(sigma**12 / (dist**13)) + (sigma**6 / (dist**7)))\n",
    "        inv_dist = 1.0 / dist\n",
    "        f_total0 += f_val * dif0 * inv_dist\n",
    "        f_total1 += f_val * dif1 * inv_dist\n",
    "        f_total2 += f_val * dif2 * inv_dist\n",
    "    res = np.empty(3)\n",
    "    res[0] = f_total0\n",
    "    res[1] = f_total1\n",
    "    res[2] = f_total2\n",
    "    return res\n",
    "\n",
    "@njit\n",
    "def harmonic_angle(surface, COM, n, theta=np.pi/2, K=10.0):\n",
    "    \"\"\"\n",
    "    Compute the harmonic-angle force for each atom in the surface.\n",
    "    The np.roll operation is implemented manually.\n",
    "    \"\"\"\n",
    "    N = surface.shape[0]\n",
    "    ab = np.empty((N, 3))\n",
    "    bc = np.empty((N, 3))\n",
    "    for i in range(N):\n",
    "        # vector from COM to atom i\n",
    "        ab[i, 0] = surface[i, 0] - COM[0]\n",
    "        ab[i, 1] = surface[i, 1] - COM[1]\n",
    "        ab[i, 2] = surface[i, 2] - COM[2]\n",
    "        # rolled vector: (i+n) mod N\n",
    "        j = (i + n) % N\n",
    "        bc[i, 0] = surface[j, 0] - COM[0]\n",
    "        bc[i, 1] = surface[j, 1] - COM[1]\n",
    "        bc[i, 2] = surface[j, 2] - COM[2]\n",
    "    ab_norm = np.empty(N)\n",
    "    bc_norm = np.empty(N)\n",
    "    for i in range(N):\n",
    "        ab_norm[i] = np.sqrt(ab[i, 0]**2 + ab[i, 1]**2 + ab[i, 2]**2)\n",
    "        bc_norm[i] = np.sqrt(bc[i, 0]**2 + bc[i, 1]**2 + bc[i, 2]**2)\n",
    "    cos_angle = np.empty(N)\n",
    "    for i in range(N):\n",
    "        cos_angle[i] = (ab[i, 0]*bc[i, 0] + ab[i, 1]*bc[i, 1] + ab[i, 2]*bc[i, 2]) / (ab_norm[i]*bc_norm[i] + 1e-12)\n",
    "        if cos_angle[i] > 1.0:\n",
    "            cos_angle[i] = 1.0\n",
    "        elif cos_angle[i] < -1.0:\n",
    "            cos_angle[i] = -1.0\n",
    "    angle_diff = np.empty(N)\n",
    "    for i in range(N):\n",
    "        angle_diff[i] = theta - np.arccos(cos_angle[i])\n",
    "    cross_inner = np.empty((N, 3))\n",
    "    for i in range(N):\n",
    "        cross_inner[i, 0] = bc[i, 1]*ab[i, 2] - bc[i, 2]*ab[i, 1]\n",
    "        cross_inner[i, 1] = bc[i, 2]*ab[i, 0] - bc[i, 0]*ab[i, 2]\n",
    "        cross_inner[i, 2] = bc[i, 0]*ab[i, 1] - bc[i, 1]*ab[i, 0]\n",
    "    vector = np.empty((N, 3))\n",
    "    for i in range(N):\n",
    "        vector[i, 0] = ab[i, 1]*cross_inner[i, 2] - ab[i, 2]*cross_inner[i, 1]\n",
    "        vector[i, 1] = ab[i, 2]*cross_inner[i, 0] - ab[i, 0]*cross_inner[i, 2]\n",
    "        vector[i, 2] = ab[i, 0]*cross_inner[i, 1] - ab[i, 1]*cross_inner[i, 0]\n",
    "    vec_norm = np.empty(N)\n",
    "    for i in range(N):\n",
    "        vec_norm[i] = np.sqrt(vector[i, 0]**2 + vector[i, 1]**2 + vector[i, 2]**2)\n",
    "    force = np.empty((N, 3))\n",
    "    for i in range(N):\n",
    "        if vec_norm[i] != 0:\n",
    "            force[i, 0] = -2 * K * angle_diff[i] * vector[i, 0] / vec_norm[i]\n",
    "            force[i, 1] = -2 * K * angle_diff[i] * vector[i, 1] / vec_norm[i]\n",
    "            force[i, 2] = -2 * K * angle_diff[i] * vector[i, 2] / vec_norm[i]\n",
    "        else:\n",
    "            force[i, 0] = 0.0\n",
    "            force[i, 1] = 0.0\n",
    "            force[i, 2] = 0.0\n",
    "    return force\n",
    "\n",
    "@njit\n",
    "def harmonic_surface(surface, COM, epsilon=10.0, sigma=0.1):\n",
    "    \"\"\"\n",
    "    Compute a harmonic bond force for the surface atoms relative to COM.\n",
    "    \"\"\"\n",
    "    N = surface.shape[0]\n",
    "    force = np.empty((N, 3))\n",
    "    for i in range(N):\n",
    "        dx = surface[i, 0] - COM[0]\n",
    "        dy = surface[i, 1] - COM[1]\n",
    "        dz = surface[i, 2] - COM[2]\n",
    "        norm_val = np.sqrt(dx*dx + dy*dy + dz*dz)\n",
    "        if norm_val == 0:\n",
    "            force[i, 0] = 0.0\n",
    "            force[i, 1] = 0.0\n",
    "            force[i, 2] = 0.0\n",
    "        else:\n",
    "            factor = 2 * epsilon * (sigma - norm_val) / norm_val\n",
    "            force[i, 0] = factor * dx\n",
    "            force[i, 1] = factor * dy\n",
    "            force[i, 2] = factor * dz\n",
    "    return force\n",
    "\n",
    "#-----------------------------------------------------------\n",
    "# 3. Define the integration function (Not-Verlet algorithm)\n",
    "#-----------------------------------------------------------\n",
    "@njit\n",
    "def notverlet(COM, surface, dt, random_val, mu, polymer, polymersurface):\n",
    "    # Generate a random force vector for this time step.\n",
    "    # Sum contributions from the harmonic angle forces.\n",
    "    force1 = harmonic_angle(surface, COM, 1)\n",
    "    force2 = harmonic_angle(surface, COM, -1)\n",
    "    force3 = harmonic_angle(surface, COM, 2, np.pi)\n",
    "    angle_forces = np.empty((4, 3))\n",
    "    for i in range(4):\n",
    "        angle_forces[i, 0] = force1[i, 0] + force2[i, 0] + force3[i, 0]\n",
    "        angle_forces[i, 1] = force1[i, 1] + force2[i, 1] + force3[i, 1]\n",
    "        angle_forces[i, 2] = force1[i, 2] + force2[i, 2] + force3[i, 2]\n",
    "    # Get the harmonic bond force.\n",
    "    harmonic_bond = harmonic_surface(surface, COM)\n",
    "    # Calculate the Lennard-Jones (Brownian) force on a particular surface atom.\n",
    "    lj_force_surf = np.zeros_like(surface,dtype=np.float64)\n",
    "    \"\"\"for i in range(4):\n",
    "        if i == 3: lj_force_surf[i] = lj_brownian(polymersurface, surface[3], 10, 0.5)\n",
    "        else: lj_force_surf[i] = [0,0,0]\"\"\"\n",
    "    \n",
    "    lj_force_surf[3] = lj_brownian(polymersurface, surface[3], 1.0, 0.5)\n",
    "    # Update the surface positions.\n",
    "    new_surface = np.empty_like(surface)\n",
    "    # Compute the force on the COM from the polymer.\n",
    "    lj_force_COM = lj_brownian(polymer, COM, 0.1, 1.2)\n",
    "    sum_hb0 = 0.0\n",
    "    sum_hb1 = 0.0\n",
    "    sum_hb2 = 0.0\n",
    "    for i in range(harmonic_bond.shape[0]):\n",
    "        sum_hb0 += harmonic_bond[i, 0]\n",
    "        sum_hb1 += harmonic_bond[i, 1]\n",
    "        sum_hb2 += harmonic_bond[i, 2]\n",
    "    for i in range(4):\n",
    "        new_surface[i, 0] = surface[i, 0] + dt * (mu * (angle_forces[i, 0] + harmonic_bond[i, 0] + lj_force_surf[i,0]) + 0.01*np.random.uniform(-random_val, random_val))\n",
    "        new_surface[i, 1] = surface[i, 1] + dt * (mu * (angle_forces[i, 1] + harmonic_bond[i, 1] + lj_force_surf[i,1]) + 0.01*np.random.uniform(-random_val, random_val))\n",
    "        new_surface[i, 2] = surface[i, 2] + dt * (mu * (angle_forces[i, 2] + harmonic_bond[i, 2] + lj_force_surf[i,2]) + 0.01*np.random.uniform(-random_val, random_val))\n",
    "    new_COM = np.empty(3)\n",
    "    new_COM[0] = COM[0] + dt * (mu * (lj_force_COM[0] - sum_hb0) + np.random.uniform(-random_val, random_val))\n",
    "    new_COM[1] = COM[1] + dt * (mu * (lj_force_COM[1] - sum_hb1) + np.random.uniform(-random_val, random_val))\n",
    "    new_COM[2] = COM[2] + dt * (mu * (lj_force_COM[2] - sum_hb2) + np.random.uniform(-random_val, random_val))\n",
    "    return new_COM, new_surface\n",
    "\n",
    "#-----------------------------------------------------------\n",
    "# 4. Define the simulation loop.\n",
    "#    Progress messages are printed every 'print_every' steps.\n",
    "#-----------------------------------------------------------\n",
    "@njit\n",
    "def simulate(COM, surface, polymer, polymersurface, steps, dt, random_val, mu, print_every):\n",
    "    headhist = np.empty((steps, 3))\n",
    "    surfacehist = np.empty((steps, surface.shape[0], 3))\n",
    "    headhist[0] = COM\n",
    "    surfacehist[0] = surface\n",
    "    for i in range(1, steps):\n",
    "        COM, surface = notverlet(COM, surface, dt, random_val, mu, polymer, polymersurface)\n",
    "        headhist[i] = COM\n",
    "        surfacehist[i] = surface\n",
    "        if i % print_every == 0:\n",
    "            # Note: print in njit functions is allowed in nopython mode.\n",
    "            print(\"Step\", i, \"/\", steps, \"COM:\",\n",
    "                  COM[0], COM[1], COM[2])\n",
    "    return headhist, surfacehist"
   ],
   "id": "2f4f3342fe8c84b3",
   "outputs": [],
   "execution_count": 325
  },
  {
   "metadata": {
    "ExecuteTime": {
     "end_time": "2025-02-06T16:33:22.020992Z",
     "start_time": "2025-02-06T16:33:17.760195Z"
    }
   },
   "cell_type": "code",
   "source": [
    "\n",
    "#-----------------------------------------------------------\n",
    "# 5. Main simulation parameters and execution.\n",
    "#-----------------------------------------------------------\n",
    "polymerLength = 10\n",
    "headN = 1\n",
    "steps = 2000000\n",
    "dt = 0.01\n",
    "random_val = 0.1\n",
    "mu = 1.0\n",
    "print_every = 100000\n",
    "\n",
    "# Initialize the system.\n",
    "polymer, polymersurface, COM, surface = polymergenerator(polymerLength, headN)\n",
    "\n",
    "# Run the simulation (the entire simulation loop is compiled for speed).\n",
    "start = time.perf_counter()\n",
    "headhist, surfacehist = simulate(COM, surface, polymer, polymersurface, steps, dt, random_val, mu, print_every)\n",
    "print(\"Simulation complete. Final COM:\", headhist[steps - 1])\n",
    "end = time.perf_counter()\n",
    "print(\"Elapsed (after compilation) = {}s\".format((end - start)))"
   ],
   "id": "91ccd2901763ffa",
   "outputs": [
    {
     "name": "stdout",
     "output_type": "stream",
     "text": [
      "Step 100000 / 2000000 COM: 4.496922939391917 -1.2052840264831721 0.29690550313141617\n",
      "Step 200000 / 2000000 COM: 4.485961102617031 -1.2391460695128966 0.1332699024059352\n",
      "Step 300000 / 2000000 COM: 4.506261526908687 -1.236873861575378 0.09688411186104735\n",
      "Step 400000 / 2000000 COM: 4.510235266727003 -1.242203184676817 0.015587183096401041\n",
      "Step 500000 / 2000000 COM: 4.506148959613959 -1.2360538834272445 -0.062002694754582546\n",
      "Step 600000 / 2000000 COM: 4.502825460940483 -1.2400525373526503 0.02530338900530104\n",
      "Step 700000 / 2000000 COM: 4.498218580487905 -1.2370314486430878 -0.0017185107496651693\n",
      "Step 800000 / 2000000 COM: 4.4989482785760755 -1.2332552226554314 0.1391973090361979\n",
      "Step 900000 / 2000000 COM: 4.474032385551693 -1.2469565724576641 0.01510641030950462\n",
      "Step 1000000 / 2000000 COM: 4.4945432703248125 -1.2429270989100663 0.005613368390549356\n",
      "Step 1100000 / 2000000 COM: 4.494985386319643 -1.2409856822072178 0.07375658108646965\n",
      "Step 1200000 / 2000000 COM: 4.500103917725989 -1.2382876854504208 0.05304617268383646\n",
      "Step 1300000 / 2000000 COM: 4.496613934777228 -1.2467533353819964 -0.024001782550619778\n",
      "Step 1400000 / 2000000 COM: 4.511429264362869 -1.2392291256824886 -0.011725052490263314\n",
      "Step 1500000 / 2000000 COM: 4.528932091970175 -1.2386864945698979 0.01753101547885147\n",
      "Step 1600000 / 2000000 COM: 4.513078195632545 -1.2358323204277653 0.11946910567475288\n",
      "Step 1700000 / 2000000 COM: 4.521748698992372 -1.2399041590000703 -0.08013257030437829\n",
      "Step 1800000 / 2000000 COM: 4.478920939377728 -1.2470297611019994 -0.03776670899089267\n",
      "Step 1900000 / 2000000 COM: 4.493822822265366 -1.2438577487822902 -0.03298496028560027\n",
      "Simulation complete. Final COM: [ 4.50184027 -1.24516919 -0.04382709]\n",
      "Elapsed (after compilation) = 4.1234925410099095s\n"
     ]
    }
   ],
   "execution_count": 326
  },
  {
   "metadata": {
    "ExecuteTime": {
     "end_time": "2025-02-06T16:33:31.523225Z",
     "start_time": "2025-02-06T16:33:31.329433Z"
    }
   },
   "cell_type": "code",
   "source": [
    "# (This cell uses your original plotting tools.)\n",
    "render_everyN = 200\n",
    "orthogonal_distance = np.linalg.norm(headhist[::render_everyN, 1:3], axis=1)\n",
    "time_arr = np.arange(steps)\n",
    "\n",
    "\n",
    "\n",
    "#fig, ax = plt.subplots(2, gridspec_kw={'height_ratios': [4, 4]}, figsize=(10, 10))\n",
    "fig, ax = plt.subplots(2, figsize=(10, 10))\n",
    "pos = ax[0].scatter(headhist[::render_everyN, 0], headhist[::render_everyN, 1], cmap=\"gist_rainbow\", c=time_arr[::render_everyN], s=1)\n",
    "ax[0].set_xlim(-0.6, 10.4)\n",
    "ax[0].set_ylim(-3.4, 8.4)\n",
    "ax[0].set_aspect(\"equal\", adjustable=\"box\")\n",
    "perp = ax[1].scatter(headhist[::render_everyN, 0], orthogonal_distance[::], cmap=\"gist_rainbow\", c=time_arr[::render_everyN], s=0.1)\n",
    "ax[1].set_xlim(-0.6, 10.4)\n",
    "ax[1].set_ylim(0.5, 2.6)\n",
    "ax[1].set_aspect(\"equal\", adjustable=\"box\")\n",
    "fig.colorbar(pos, label='timestep')\n",
    "plt.show()"
   ],
   "id": "334b89eb24907ad9",
   "outputs": [
    {
     "data": {
      "text/plain": [
       "<Figure size 1000x1000 with 3 Axes>"
      ],
      "image/png": "[encoded data removed]"
     },
     "metadata": {},
     "output_type": "display_data"
    }
   ],
   "execution_count": 327
  },
  {
   "metadata": {
    "ExecuteTime": {
     "end_time": "2025-02-06T16:33:32.594005Z",
     "start_time": "2025-02-06T16:33:32.591398Z"
    }
   },
   "cell_type": "code",
   "source": "",
   "id": "d29373013efeda84",
   "outputs": [],
   "execution_count": 327
  },
  {
   "metadata": {
    "ExecuteTime": {
     "end_time": "2025-02-06T16:25:22.076646Z",
     "start_time": "2025-02-06T16:25:22.008784Z"
    }
   },
   "cell_type": "code",
   "source": "plt.plot(time_arr[::200], orthogonal_distance)",
   "id": "a0dbe8d3b694fde2",
   "outputs": [
    {
     "data": {
      "text/plain": [
       "[<matplotlib.lines.Line2D at 0x370f2bf80>]"
      ]
     },
     "execution_count": 291,
     "metadata": {},
     "output_type": "execute_result"
    },
    {
     "data": {
      "text/plain": [
       "<Figure size 640x480 with 1 Axes>"
      ],
      "image/png": "[encoded data removed]"
     },
     "metadata": {},
     "output_type": "display_data"
    }
   ],
   "execution_count": 291
  },
  {
   "metadata": {
    "ExecuteTime": {
     "end_time": "2025-02-06T15:44:47.805967Z",
     "start_time": "2025-02-06T15:44:47.772675Z"
    }
   },
   "cell_type": "code",
   "source": [
    "\n",
    "# Export trajectory in XYZ format (saving every 100th frame)\n",
    "with open(\"trajectory.xyz\", \"w\") as f:\n",
    "    step_interval = 1000\n",
    "    num_frames = steps // step_interval\n",
    "    for t in range(num_frames):\n",
    "        # Combine COM and surface positions for the frame.\n",
    "        positions = np.empty((surface.shape[0] + 1, 3))\n",
    "        positions[0] = headhist[t * step_interval]\n",
    "        for j in range(surface.shape[0]):\n",
    "            positions[j + 1] = surfacehist[t * step_interval, j]\n",
    "        f.write(f\"{positions.shape[0]}\\n\\n\")\n",
    "        for i in range(positions.shape[0]):\n",
    "            f.write(f\"C{i + 1} {positions[i, 0]:8.3f} {positions[i, 1]:8.3f} {positions[i, 2]:8.3f}\\n\")"
   ],
   "id": "76da22bb20a5cda8",
   "outputs": [],
   "execution_count": 212
  },
  {
   "metadata": {},
   "cell_type": "code",
   "source": [
    "with open(\"trajectory.pdb\", \"w\") as f:\n",
    "    for t, positions in enumerate(np.concatenate(((np.reshape(headhist[::100],(2000,1,3))), surfacehist[::100]),axis=1)):  # Save every 100th frame\n",
    "        f.write(f\"MODEL     {t + 1}\\n\")\n",
    "        f.write(f\"ATOM  {1:5d}  C   UNK     1    {positions[0,0]:8.3f}{positions[0,1]:8.3f}{positions[0,2]:8.3f}  1.00  0.00           C\\n\")\n",
    "        f.write(f\"ATOM  {2:5d}  CA   UNK     1    {positions[1,0]:8.3f}{positions[1,1]:8.3f}{positions[1,2]:8.3f}  1.00  0.00           C\\n\")\n",
    "        f.write(f\"ATOM  {3:5d}  CB   UNK     1    {positions[2,0]:8.3f}{positions[2,1]:8.3f}{positions[2,2]:8.3f}  1.00  0.00           C\\n\")\n",
    "        f.write(f\"ATOM  {4:5d}  O   UNK     1    {positions[3,0]:8.3f}{positions[3,1]:8.3f}{positions[3,2]:8.3f}  1.00  0.00           O\\n\")\n",
    "        f.write(f\"ATOM  {5:5d}  N   UNK     1    {positions[4,0]:8.3f}{positions[4,1]:8.3f}{positions[4,2]:8.3f}  1.00  0.00           N\\n\")\n",
    "        f.write(\"ENDMDL\\n\")"
   ],
   "id": "6f4b17a4ad16ffed",
   "outputs": [],
   "execution_count": null
  },
  {
   "metadata": {
    "ExecuteTime": {
     "end_time": "2025-02-05T01:40:22.021620Z",
     "start_time": "2025-02-05T01:40:22.017754Z"
    }
   },
   "cell_type": "code",
   "source": [
    "with open(\"polymerr.pdb\", \"w\") as f:\n",
    "    for i in range(polymerLength):\n",
    "        f.write(f\"ATOM  {2*i+1:5d}  C   UNK     1    {i:8.3f}{0:8.3f}{0:8.3f}  1.00  0.00           C\\n\")\n",
    "        f.write(f\"ATOM  {2*i+2:5d}  CA   UNK     1    {i:8.3f}{0.2:8.3f}{0:8.3f}  1.00  0.00           C\\n\")"
   ],
   "id": "f9b52dc93e371aee",
   "outputs": [],
   "execution_count": 64
  },
  {
   "metadata": {
    "ExecuteTime": {
     "end_time": "2025-02-06T16:33:41.640701Z",
     "start_time": "2025-02-06T16:33:41.616550Z"
    }
   },
   "cell_type": "code",
   "source": [
    "with open(\"trajectory.xyz\", \"w\") as f:\n",
    "    for t, positions in enumerate(np.concatenate(((np.reshape(headhist[::1000],(2000,1,3))), surfacehist[::1000]),axis=1)):\n",
    "        f.write(f\"5 \\n \\n\")\n",
    "        f.write(f\"C1 {positions[0,0]:8.3f}{positions[0,1]:8.3f}{positions[0,2]:8.3f} \\n\")\n",
    "        f.write(f\"C2 {positions[1,0]:8.3f}{positions[1,1]:8.3f}{positions[1,2]:8.3f} \\n\")\n",
    "        f.write(f\"C3 {positions[2,0]:8.3f}{positions[2,1]:8.3f}{positions[2,2]:8.3f} \\n\")\n",
    "        f.write(f\"C4 {positions[3,0]:8.3f}{positions[3,1]:8.3f}{positions[3,2]:8.3f} \\n\")\n",
    "        f.write(f\"C5 {positions[4,0]:8.3f}{positions[4,1]:8.3f}{positions[4,2]:8.3f} \\n\")"
   ],
   "id": "5cf7e32a606d099b",
   "outputs": [],
   "execution_count": 328
  },
  {
   "metadata": {
    "ExecuteTime": {
     "end_time": "2025-02-06T16:33:42.335960Z",
     "start_time": "2025-02-06T16:33:42.333556Z"
    }
   },
   "cell_type": "code",
   "source": [
    "with open(\"polymerr.xyz\", \"w\") as f:\n",
    "    f.write(f\"20 \\n \\n\")\n",
    "    for i in range(polymerLength):\n",
    "        f.write(f\"C{2*i+6} {i+1:8.3f}{0:8.3f}{0:8.3f} \\n\")\n",
    "        f.write(f\"C{2*i+7} {i+1:8.3f}{0.8:8.3f}{0:8.3f} \\n\")"
   ],
   "id": "1b0222941d8976ff",
   "outputs": [],
   "execution_count": 329
  },
  {
   "metadata": {
    "ExecuteTime": {
     "end_time": "2025-02-06T15:58:04.159902Z",
     "start_time": "2025-02-06T15:58:04.155799Z"
    }
   },
   "cell_type": "code",
   "source": "np.empty_like(surface)",
   "id": "720a7d8369187c8c",
   "outputs": [
    {
     "data": {
      "text/plain": [
       "array([[5.1, 2.5, 0.6],\n",
       "       [5. , 2.6, 0.6],\n",
       "       [4.9, 2.5, 0.6],\n",
       "       [5. , 2.4, 0.6]])"
      ]
     },
     "execution_count": 230,
     "metadata": {},
     "output_type": "execute_result"
    }
   ],
   "execution_count": 230
  },
  {
   "metadata": {
    "ExecuteTime": {
     "end_time": "2025-02-06T16:05:18.742336Z",
     "start_time": "2025-02-06T16:05:18.717996Z"
    }
   },
   "cell_type": "code",
   "source": "",
   "id": "b6e753ef42744050",
   "outputs": [
    {
     "ename": "NameError",
     "evalue": "name 'harmonic_bond' is not defined",
     "output_type": "error",
     "traceback": [
      "\u001B[0;31m---------------------------------------------------------------------------\u001B[0m",
      "\u001B[0;31mNameError\u001B[0m                                 Traceback (most recent call last)",
      "Cell \u001B[0;32mIn[256], line 1\u001B[0m\n\u001B[0;32m----> 1\u001B[0m \u001B[43mharmonic_bond\u001B[49m\u001B[38;5;241m.\u001B[39mshape[\u001B[38;5;241m0\u001B[39m]\n",
      "\u001B[0;31mNameError\u001B[0m: name 'harmonic_bond' is not defined"
     ]
    }
   ],
   "execution_count": 256
  }
 ],
 "metadata": {
  "kernelspec": {
   "display_name": "Python 3",
   "language": "python",
   "name": "python3"
  },
  "language_info": {
   "codemirror_mode": {
    "name": "ipython",
    "version": 2
   },
   "file_extension": ".py",
   "mimetype": "text/x-python",
   "name": "python",
   "nbconvert_exporter": "python",
   "pygments_lexer": "ipython2",
   "version": "2.7.6"
  }
 },
 "nbformat": 4,
 "nbformat_minor": 5
}
